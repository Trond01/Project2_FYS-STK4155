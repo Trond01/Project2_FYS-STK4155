{
 "cells": [
  {
   "cell_type": "markdown",
   "metadata": {},
   "source": [
    "### Part b): Writing your own Neural Network code\n",
    "\n",
    "to write your own Feed Forward Neural Network code implementing the back propagation algorithm discussed in the lecture slides from week 40 and week 41.\n",
    "\n",
    "focus on a regression problem first and study either the simple second-order polynomial from part a) or the Franke function or terrain data (or both or other data sets) from project 1.\n",
    "\n",
    "Discuss again your choice of cost function.\n",
    "\n",
    "Write an FFNN code for regression with a flexible number of hidden layers and nodes using the Sigmoid function as activation function for the hidden layers. Initialize the weights using a normal distribution. How would you initialize the biases? And which activation function would you select for the final output layer?\n",
    "\n",
    "Train your network and compare the results with those from your OLS and Ridge Regression codes from project 1 if you use the Franke function or the terrain data. You should test your results against a similar code using Scikit-Learn (see the examples in the above lecture notes from week 41) or tensorflow/keras.\n",
    "\n",
    "Comment your results and give a critical discussion of the results obtained with the Linear Regression code and your own Neural Network code.\n",
    "Make an analysis of the regularization parameters and the learning rates employed to find the optimal MSE and\n",
    "scores."
   ]
  },
  {
   "cell_type": "code",
   "execution_count": 1,
   "metadata": {},
   "outputs": [],
   "source": [
    "import sys, os\n",
    "sys.path.append(os.path.abspath(os.path.join('..')))\n",
    "from Code.descent_methods import *\n",
    "from Code.utilities import MSELoss_method, jax_loss_grad, train_test_split, plot_test_results\n",
    "from Code.activation_functions import sigmoid, relu\n",
    "\n",
    "# Import tools from the first project \n",
    "from Code.project1_tools import feature_matrix_2d, r2_sampling, FrankeFunction\n",
    "\n",
    "import jax.numpy as jnp\n",
    "from jax import nn\n",
    "import numpy as np\n",
    "from matplotlib import pyplot as plt\n",
    "\n",
    "import Code.neural_network as nun"
   ]
  },
  {
   "cell_type": "code",
   "execution_count": 9,
   "metadata": {},
   "outputs": [],
   "source": [
    "# Neural network\n",
    "\n",
    "# Construct beta with desired layer structure\n",
    "layers = [2 ,20 , 20, 20, 1]\n",
    "beta0 = nun.beta_init(layers)\n",
    "\n",
    "# Sample points and split in train and test\n",
    "num_points = 101\n",
    "data = r2_sampling(num_points, sigma2=0)\n",
    "x, y, z = data[\"x\"], data[\"y\"], data[\"z\"]\n",
    "\n",
    "# Feature matrix with x and y coordinate of franke function\n",
    "X = np.array([np.array([x[i][0], y[i][0]]) for i in range(len(x))])\n",
    "\n",
    "model = nun.neural_network_model(beta0, X)\n",
    "\n",
    "# Split into train and test\n",
    "X_train, y_train, X_test, y_test, test_index = train_test_split(X, z, 0.5)\n"
   ]
  },
  {
   "cell_type": "code",
   "execution_count": null,
   "metadata": {},
   "outputs": [],
   "source": [
    "n_epochs = 10\n",
    "batch_size = 10\n",
    "num_batches = int(len(y_train) / batch_size)\n",
    "lr = 0.01 # Initial learning rate\n",
    "gamma = 0 # Momentum\n",
    "\n",
    "### TODO: missing compatability with plain method...\n",
    "for method in [SGD]: #[SGD, SGD_adagrad, SGD_RMS_prop, SGD_adam]:\n",
    "    result = nun.neural_network_train(X_train, y_train, X_test, y_test, \n",
    "                                  batch_size=batch_size, \n",
    "                                  n_epochs=n_epochs,\n",
    "                                  lr=lr, gamma=gamma,\n",
    "                                  descent_method=method)\n",
    "    plot_test_results(result[\"test_loss_list\"], result[\"train_loss_list\"], num_batches)"
   ]
  }
 ],
 "metadata": {
  "kernelspec": {
   "display_name": "p310_fys_stk_env",
   "language": "python",
   "name": "python3"
  },
  "language_info": {
   "codemirror_mode": {
    "name": "ipython",
    "version": 3
   },
   "file_extension": ".py",
   "mimetype": "text/x-python",
   "name": "python",
   "nbconvert_exporter": "python",
   "pygments_lexer": "ipython3",
   "version": "3.10.12"
  }
 },
 "nbformat": 4,
 "nbformat_minor": 2
}
