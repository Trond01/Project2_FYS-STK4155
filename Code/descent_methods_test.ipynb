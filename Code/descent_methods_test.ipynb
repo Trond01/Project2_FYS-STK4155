{
 "cells": [
  {
   "cell_type": "code",
   "execution_count": 1,
   "metadata": {},
   "outputs": [],
   "source": [
    "import jax.numpy as jnp"
   ]
  },
  {
   "cell_type": "code",
   "execution_count": null,
   "metadata": {},
   "outputs": [],
   "source": [
    "# simple function\n",
    "def f(x):\n",
    "    return 1 + x + x**2\n",
    "\n",
    "\n",
    "def MSELoss(y, y_pred):\n",
    "    \"\"\"MSE loss of prediction array.\n",
    "\n",
    "    Args:\n",
    "        y (ndarray): Target values\n",
    "        y_pred (ndarray): Predicted values\n",
    "\n",
    "    Returns:\n",
    "        float: MSE loss\n",
    "    \"\"\"\n",
    "    return jnp.sum(jnp.power(y - y_pred, 2)) / y.shape[0]\n",
    "\n",
    "\n",
    "def model(beta, X):\n",
    "    return jnp.dot(X, beta)\n",
    "\n",
    "\n",
    "\n"
   ]
  },
  {
   "cell_type": "code",
   "execution_count": null,
   "metadata": {},
   "outputs": [],
   "source": []
  },
  {
   "cell_type": "markdown",
   "metadata": {},
   "source": [
    "### Plain gdc"
   ]
  },
  {
   "cell_type": "code",
   "execution_count": null,
   "metadata": {},
   "outputs": [],
   "source": []
  },
  {
   "cell_type": "markdown",
   "metadata": {},
   "source": [
    "### Adam"
   ]
  },
  {
   "cell_type": "code",
   "execution_count": null,
   "metadata": {},
   "outputs": [],
   "source": []
  },
  {
   "cell_type": "code",
   "execution_count": null,
   "metadata": {},
   "outputs": [],
   "source": []
  }
 ],
 "metadata": {
  "kernelspec": {
   "display_name": ".venv",
   "language": "python",
   "name": "python3"
  },
  "language_info": {
   "codemirror_mode": {
    "name": "ipython",
    "version": 3
   },
   "file_extension": ".py",
   "mimetype": "text/x-python",
   "name": "python",
   "nbconvert_exporter": "python",
   "pygments_lexer": "ipython3",
   "version": "3.9.12"
  }
 },
 "nbformat": 4,
 "nbformat_minor": 2
}
