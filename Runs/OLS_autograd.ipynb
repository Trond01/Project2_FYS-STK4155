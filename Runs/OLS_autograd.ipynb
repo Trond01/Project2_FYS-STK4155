{
 "cells": [
  {
   "cell_type": "code",
   "execution_count": null,
   "metadata": {},
   "outputs": [],
   "source": [
    "import sys, os\n",
    "sys.path.append(os.path.abspath(os.path.join('..')))\n",
    "from Code.descent_methods import *\n",
    "from Code.utilities import train_test_split, plot_test_results\n",
    "\n",
    "# analytic gradient methods\n",
    "from Code.utilities import OLS_train_autograd, MSELoss_method\n",
    "\n",
    "# Import tools from the first project \n",
    "from Code.project1_tools import feature_matrix_2d, r2_sampling, plot_surface, scale_feature_matrix\n",
    "\n",
    "import numpy as np\n",
    "import jax.numpy as jnp"
   ]
  },
  {
   "cell_type": "code",
   "execution_count": null,
   "metadata": {},
   "outputs": [],
   "source": [
    "# Initialise beta\n",
    "num_features = 10\n",
    "beta0 = {\"b\" : np.random.random(num_features)}\n",
    "\n",
    "# Start with small values\n",
    "beta0 = {\"b\" : np.random.random(num_features)*0.1}\n",
    "\n",
    "# beta0 = {\"b\" : 0*np.random.random(num_features)}\n",
    "\n",
    "\n",
    "# Sample points and split in train and test\n",
    "num_points = 200\n",
    "split=0.5\n",
    "data = r2_sampling(num_points, sigma2=0.3)\n",
    "x, y, z = data[\"x\"], data[\"y\"], data[\"z\"]\n",
    "X = feature_matrix_2d(x, y, num_features)\n",
    "X, means, var = scale_feature_matrix(X)\n",
    "X_train, y_train, X_test, y_test, test_index = train_test_split(X, z, split)\n",
    "\n",
    "### TODO: dette er en quickfix...\n",
    "y_train, y_test = np.squeeze(y_train), np.squeeze(y_test)\n",
    "\n",
    "# Number of of minibatch when using batch size 10\n",
    "m = int(len(y_train) / 10) \n",
    "epochs = 20\n",
    "\n",
    "# Define the polynomial fit model\n",
    "def model(beta, X):\n",
    "    # print(beta)\n",
    "    return jnp.dot(X, beta[\"b\"])\n",
    "\n",
    "loss_func = MSELoss_method(model)\n",
    "loss_grad = OLS_train_autograd(model)"
   ]
  },
  {
   "attachments": {},
   "cell_type": "markdown",
   "metadata": {},
   "source": [
    "### Plain GD"
   ]
  },
  {
   "cell_type": "code",
   "execution_count": null,
   "metadata": {},
   "outputs": [],
   "source": [
    "result_GD = GD(X_train, y_train, X_test, y_test, grad_method=loss_grad, n_epochs=epochs*10, beta0=beta0, test_loss_func=loss_func)\n",
    "plot_test_results(result_GD[\"test_loss_list\"], result_GD[\"train_loss_list\"], 1)"
   ]
  },
  {
   "attachments": {},
   "cell_type": "markdown",
   "metadata": {},
   "source": [
    "### Stochastic"
   ]
  },
  {
   "cell_type": "code",
   "execution_count": null,
   "metadata": {},
   "outputs": [],
   "source": [
    "result_SGD = SGD(X_train, y_train, X_test, y_test, grad_method=loss_grad,n_epochs=epochs, beta0=beta0, test_loss_func=loss_func)\n",
    "plot_test_results(result_SGD[\"test_loss_list\"], result_SGD[\"train_loss_list\"], m)"
   ]
  },
  {
   "attachments": {},
   "cell_type": "markdown",
   "metadata": {},
   "source": [
    "### Adagrad"
   ]
  },
  {
   "cell_type": "code",
   "execution_count": null,
   "metadata": {},
   "outputs": [],
   "source": [
    "result_adagrad = SGD_adagrad(X_train, y_train, X_test, y_test, grad_method=loss_grad, n_epochs=epochs, beta0=beta0, test_loss_func=loss_func)\n",
    "plot_test_results(result_adagrad[\"test_loss_list\"], result_adagrad[\"train_loss_list\"], m)"
   ]
  },
  {
   "attachments": {},
   "cell_type": "markdown",
   "metadata": {},
   "source": [
    "### RMS prop"
   ]
  },
  {
   "cell_type": "code",
   "execution_count": null,
   "metadata": {},
   "outputs": [],
   "source": [
    "result_RMS_prop = SGD_RMS_prop(X_train, y_train, X_test, y_test, grad_method=loss_grad,n_epochs=epochs, beta0=beta0, test_loss_func=loss_func)\n",
    "plot_test_results(result_RMS_prop[\"test_loss_list\"], result_RMS_prop[\"train_loss_list\"], m)"
   ]
  },
  {
   "attachments": {},
   "cell_type": "markdown",
   "metadata": {},
   "source": [
    "### Adam"
   ]
  },
  {
   "cell_type": "code",
   "execution_count": null,
   "metadata": {},
   "outputs": [],
   "source": [
    "result_adam = SGD_adam(X_train, y_train, X_test, y_test, grad_method=loss_grad,n_epochs=epochs, beta0=beta0, test_loss_func=loss_func)\n",
    "plot_test_results(result_adam[\"test_loss_list\"], result_adam[\"train_loss_list\"], m)"
   ]
  }
 ],
 "metadata": {
  "kernelspec": {
   "display_name": ".venv",
   "language": "python",
   "name": "python3"
  },
  "language_info": {
   "codemirror_mode": {
    "name": "ipython",
    "version": 3
   },
   "file_extension": ".py",
   "mimetype": "text/x-python",
   "name": "python",
   "nbconvert_exporter": "python",
   "pygments_lexer": "ipython3",
   "version": "3.10.11"
  }
 },
 "nbformat": 4,
 "nbformat_minor": 2
}
