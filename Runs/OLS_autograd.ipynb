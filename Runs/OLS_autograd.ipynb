{
 "cells": [
  {
   "cell_type": "code",
   "execution_count": 1,
   "metadata": {},
   "outputs": [],
   "source": [
    "import sys, os\n",
    "sys.path.append(os.path.abspath(os.path.join('..')))\n",
    "from Code.descent_methods import *\n",
    "from Code.utilities import MSE_grad, train_test_split, plot_test_results, MSE_grad, MSELoss\n",
    "\n",
    "# Import tools from the first project \n",
    "from Code.project1_tools import feature_matrix_2d, r2_sampling\n",
    "\n",
    "# Tools for automatic differentiation\n",
    "import jax.numpy as jnp\n",
    "from jax import grad\n",
    "\n",
    "import numpy as np\n"
   ]
  },
  {
   "cell_type": "code",
   "execution_count": null,
   "metadata": {},
   "outputs": [],
   "source": [
    "# Initialise beta\n",
    "num_features = 10\n",
    "beta0 = {\"b\" : np.random.random(num_features)}\n",
    "\n",
    "# Sample points and split in train and test\n",
    "num_points = 100\n",
    "data = r2_sampling(num_points, sigma2=0.3)\n",
    "x, y, z = data[\"x\"], data[\"y\"], data[\"z\"]\n",
    "X = feature_matrix_2d(x, y, num_features)\n",
    "X_train, y_train, X_test, y_test, test_index = train_test_split(X, z, 0.2)\n",
    "m = int(len(y_train) / 10) # Number of of minibatch when using batch size 10\n",
    "epochs = 50\n",
    "\n",
    "# Define the polynomial fit model\n",
    "def model(beta, X):\n",
    "    return jnp.dot(X, beta[\"b\"])\n",
    "\n",
    "# We do everything with jax grad ...\n",
    "def jax_loss_grad(loss_func):\n",
    "    return grad(loss_func)\n",
    "loss_func = lambda beta, X, y : MSELoss(y, model(beta, X))\n",
    "loss_grad = jax_loss_grad(loss_func=loss_func)"
   ]
  },
  {
   "attachments": {},
   "cell_type": "markdown",
   "metadata": {},
   "source": [
    "### Plain GD"
   ]
  },
  {
   "cell_type": "code",
   "execution_count": null,
   "metadata": {},
   "outputs": [],
   "source": [
    "result_GD = GD(X_train, y_train, X_test, y_test, grad_method=loss_grad, n_epochs=epochs*10, beta0=beta0, test_loss_func=loss_func)\n",
    "plot_test_results(result_GD[\"test_loss_list\"], result_GD[\"train_loss_list\"], 1)"
   ]
  },
  {
   "attachments": {},
   "cell_type": "markdown",
   "metadata": {},
   "source": [
    "### Stochastic"
   ]
  },
  {
   "cell_type": "code",
   "execution_count": null,
   "metadata": {},
   "outputs": [],
   "source": [
    "result_SGD = SGD(X_train, y_train, X_test, y_test, grad_method=loss_grad,n_epochs=epochs, beta0=beta0, test_loss_func=loss_func)\n",
    "plot_test_results(result_SGD[\"test_loss_list\"], result_SGD[\"train_loss_list\"], m)"
   ]
  },
  {
   "attachments": {},
   "cell_type": "markdown",
   "metadata": {},
   "source": [
    "### Adagrad"
   ]
  },
  {
   "cell_type": "code",
   "execution_count": null,
   "metadata": {},
   "outputs": [],
   "source": [
    "result_adagrad = SGD_adagrad(X_train, y_train, X_test, y_test, grad_method=loss_grad, n_epochs=epochs, beta0=beta0, test_loss_func=loss_func)\n",
    "plot_test_results(result_adagrad[\"test_loss_list\"], result_adagrad[\"train_loss_list\"], m)"
   ]
  },
  {
   "attachments": {},
   "cell_type": "markdown",
   "metadata": {},
   "source": [
    "### RMS prop"
   ]
  },
  {
   "cell_type": "code",
   "execution_count": null,
   "metadata": {},
   "outputs": [],
   "source": [
    "result_RMS_prop = SGD_RMS_prop(X_train, y_train, X_test, y_test, grad_method=loss_grad,n_epochs=epochs, beta0=beta0, test_loss_func=loss_func)\n",
    "plot_test_results(result_RMS_prop[\"test_loss_list\"], result_RMS_prop[\"train_loss_list\"], m)"
   ]
  },
  {
   "attachments": {},
   "cell_type": "markdown",
   "metadata": {},
   "source": [
    "### Adam"
   ]
  },
  {
   "cell_type": "code",
   "execution_count": null,
   "metadata": {},
   "outputs": [],
   "source": [
    "result_adam = SGD_adam(X_train, y_train, X_test, y_test, grad_method=loss_grad,n_epochs=epochs, beta0=beta0, test_loss_func=loss_func)\n",
    "plot_test_results(result_adam[\"test_loss_list\"], result_adam[\"train_loss_list\"], m)"
   ]
  }
 ],
 "metadata": {
  "kernelspec": {
   "display_name": ".venv",
   "language": "python",
   "name": "python3"
  },
  "language_info": {
   "codemirror_mode": {
    "name": "ipython",
    "version": 3
   },
   "file_extension": ".py",
   "mimetype": "text/x-python",
   "name": "python",
   "nbconvert_exporter": "python",
   "pygments_lexer": "ipython3",
   "version": "3.9.0"
  }
 },
 "nbformat": 4,
 "nbformat_minor": 2
}
