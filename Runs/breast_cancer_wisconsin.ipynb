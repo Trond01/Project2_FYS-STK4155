{
 "cells": [
  {
   "cell_type": "code",
   "execution_count": 1,
   "metadata": {},
   "outputs": [],
   "source": [
    "import sys, os\n",
    "sys.path.append(os.path.abspath(os.path.join('..')))\n",
    "from Code.logistic_regression import logistic_loss_func, logistic_grad, import_breast_cancer, accuracy_func\n",
    "from Code.utilities import train_test_split, plot_test_results\n",
    "from Code.descent_methods import SGD_adam\n",
    "\n",
    "import jax.numpy as jnp\n",
    "import numpy as np\n",
    "from jax import nn"
   ]
  },
  {
   "cell_type": "code",
   "execution_count": 2,
   "metadata": {},
   "outputs": [
    {
     "name": "stderr",
     "output_type": "stream",
     "text": [
      "c:\\Users\\eirik\\Desktop\\UIO\\FYSSTK\\Project2_FYS_STK4155\\Code\\logistic_regression.py:47: UserWarning: Explicitly requested dtype <class 'jax.numpy.float64'> requested in array is not available, and will be truncated to dtype float32. To enable more dtypes, set the jax_enable_x64 configuration option or the JAX_ENABLE_X64 shell environment variable. See https://github.com/google/jax#current-gotchas for more.\n",
      "  X = jnp.array(data.to_numpy()[:, 1:-1], dtype=jnp.float64)\n"
     ]
    }
   ],
   "source": [
    "X, y = import_breast_cancer()"
   ]
  },
  {
   "cell_type": "code",
   "execution_count": 3,
   "metadata": {},
   "outputs": [
    {
     "name": "stdout",
     "output_type": "stream",
     "text": [
      "[[ 5.  1.  1. ...  3.  1.  1.]\n",
      " [ 5.  4.  4. ...  3.  2.  1.]\n",
      " [ 3.  1.  1. ...  3.  1.  1.]\n",
      " ...\n",
      " [ 5. 10. 10. ...  8. 10.  2.]\n",
      " [ 4.  8.  6. ... 10.  6.  1.]\n",
      " [ 4.  8.  8. ... 10.  4.  1.]]\n"
     ]
    }
   ],
   "source": [
    "X_train, y_train, X_test, y_test, test_index = train_test_split(X, y, 0.2)\n",
    "m = int(len(y_train) / 10)\n",
    "epochs = 50\n",
    "\n",
    "beta0 = {\"W1\":np.random.random((X_train.shape[1], 20)), \"W2\":np.random.random((20, 20)), \"W3\":np.random.random((20, 1)), \"b2\":np.random.random(), \"b3\":np.random.random()}\n",
    "\n",
    "print(X)\n",
    "def classifier_model(beta, X):\n",
    "    out = X.copy()\n",
    "    out = nn.sigmoid(jnp.dot(out, beta[\"W1\"]))\n",
    "    out = nn.sigmoid(jnp.add(jnp.dot(out, beta[\"W2\"]), beta[\"b2\"]))\n",
    "    out = nn.sigmoid(jnp.add(jnp.dot(out, beta[\"W3\"]), beta[\"b3\"]))\n",
    "    return out\n",
    "    \n",
    "classifier_model(beta0, X)\n",
    "loss_func = logistic_loss_func(classifier_model)\n",
    "log_loss_grad = logistic_grad(classifier_model)\n",
    "accuracy_test_func = accuracy_func(classifier_model)\n"
   ]
  },
  {
   "cell_type": "code",
   "execution_count": 4,
   "metadata": {},
   "outputs": [
    {
     "name": "stdout",
     "output_type": "stream",
     "text": [
      "Epoch: 0\n",
      "Epoch: 1\n",
      "Epoch: 2\n",
      "Epoch: 3\n",
      "Epoch: 4\n",
      "Epoch: 5\n",
      "Epoch: 6\n",
      "Epoch: 7\n",
      "Epoch: 8\n",
      "Epoch: 9\n",
      "Epoch: 10\n",
      "Epoch: 11\n",
      "Epoch: 12\n",
      "Epoch: 13\n",
      "Epoch: 14\n",
      "Epoch: 15\n",
      "Epoch: 16\n",
      "Epoch: 17\n",
      "Epoch: 18\n",
      "Epoch: 19\n",
      "Epoch: 20\n",
      "Epoch: 21\n",
      "Epoch: 22\n",
      "Epoch: 23\n",
      "Epoch: 24\n",
      "Epoch: 25\n",
      "Epoch: 26\n",
      "Epoch: 27\n",
      "Epoch: 28\n",
      "Epoch: 29\n",
      "Epoch: 30\n",
      "Epoch: 31\n",
      "Epoch: 32\n",
      "Epoch: 33\n",
      "Epoch: 34\n",
      "Epoch: 35\n",
      "Epoch: 36\n"
     ]
    }
   ],
   "source": [
    "result_adam = SGD_adam(X_train, y_train, X_test, y_test, grad_method=log_loss_grad,n_epochs=epochs, beta0=beta0, test_loss_func=loss_func)\n",
    "plot_test_results(result_adam[\"test_loss_list\"], result_adam[\"train_loss_list\"], m)"
   ]
  },
  {
   "cell_type": "code",
   "execution_count": null,
   "metadata": {},
   "outputs": [],
   "source": [
    "result_adam = SGD_adam(X_train, y_train, X_test, y_test, grad_method=log_loss_grad,n_epochs=epochs, beta0=beta0, test_loss_func=accuracy_test_func)\n",
    "plot_test_results(result_adam[\"test_loss_list\"], result_adam[\"train_loss_list\"], m)"
   ]
  },
  {
   "cell_type": "code",
   "execution_count": null,
   "metadata": {},
   "outputs": [],
   "source": []
  }
 ],
 "metadata": {
  "kernelspec": {
   "display_name": ".venv",
   "language": "python",
   "name": "python3"
  },
  "language_info": {
   "codemirror_mode": {
    "name": "ipython",
    "version": 3
   },
   "file_extension": ".py",
   "mimetype": "text/x-python",
   "name": "python",
   "nbconvert_exporter": "python",
   "pygments_lexer": "ipython3",
   "version": "3.9.0"
  }
 },
 "nbformat": 4,
 "nbformat_minor": 2
}
