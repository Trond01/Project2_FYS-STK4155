{
 "cells": [
  {
   "cell_type": "code",
   "execution_count": null,
   "metadata": {},
   "outputs": [],
   "source": [
    "import sys, os\n",
    "sys.path.append(os.path.abspath(os.path.join('..')))\n",
    "from Code.logistic_regression import logistic_loss_func, logistic_grad, import_breast_cancer, accuracy_func\n",
    "from Code.utilities import train_test_split, plot_test_results\n",
    "from Code.descent_methods import SGD_adam\n",
    "\n",
    "import jax.numpy as jnp\n",
    "import numpy as np\n",
    "from jax import nn"
   ]
  },
  {
   "cell_type": "code",
   "execution_count": null,
   "metadata": {},
   "outputs": [],
   "source": [
    "X, y = import_breast_cancer()"
   ]
  },
  {
   "cell_type": "code",
   "execution_count": null,
   "metadata": {},
   "outputs": [],
   "source": [
    "X_train, y_train, X_test, y_test, test_index = train_test_split(X, y, 0.2)\n",
    "m = int(len(y_train) / 10)\n",
    "epochs = 50\n",
    "\n",
    "beta0 = {\"W1\":np.random.random((X_train.shape[1], 20)), \"W2\":np.random.random((20, 20)), \"W3\":np.random.random((20, 1)), \"b2\":np.random.random(), \"b3\":np.random.random()}\n",
    "\n",
    "print(X)\n",
    "def classifier_model(beta, X):\n",
    "    out = X.copy()\n",
    "    out = nn.sigmoid(jnp.dot(out, beta[\"W1\"]))\n",
    "    out = nn.sigmoid(jnp.add(jnp.dot(out, beta[\"W2\"]), beta[\"b2\"]))\n",
    "    out = nn.sigmoid(jnp.add(jnp.dot(out, beta[\"W3\"]), beta[\"b3\"]))\n",
    "    return out\n",
    "    \n",
    "classifier_model(beta0, X)\n",
    "loss_func = logistic_loss_func(classifier_model)\n",
    "log_loss_grad = logistic_grad(classifier_model)\n",
    "accuracy_test_func = accuracy_func(classifier_model)\n"
   ]
  },
  {
   "cell_type": "code",
   "execution_count": null,
   "metadata": {},
   "outputs": [],
   "source": [
    "result_adam = SGD_adam(X_train, y_train, X_test, y_test, grad_method=log_loss_grad,n_epochs=epochs, beta0=beta0, test_loss_func=loss_func)\n",
    "plot_test_results(result_adam[\"test_loss_list\"], result_adam[\"train_loss_list\"], m)"
   ]
  },
  {
   "cell_type": "code",
   "execution_count": null,
   "metadata": {},
   "outputs": [],
   "source": [
    "result_adam = SGD_adam(X_train, y_train, X_test, y_test, grad_method=log_loss_grad,n_epochs=epochs, beta0=beta0, test_loss_func=accuracy_test_func)\n",
    "plot_test_results(result_adam[\"test_loss_list\"], result_adam[\"train_loss_list\"], m)"
   ]
  },
  {
   "cell_type": "code",
   "execution_count": null,
   "metadata": {},
   "outputs": [],
   "source": []
  }
 ],
 "metadata": {
  "kernelspec": {
   "display_name": ".venv",
   "language": "python",
   "name": "python3"
  },
  "language_info": {
   "codemirror_mode": {
    "name": "ipython",
    "version": 3
   },
   "file_extension": ".py",
   "mimetype": "text/x-python",
   "name": "python",
   "nbconvert_exporter": "python",
   "pygments_lexer": "ipython3",
   "version": "3.10.11"
  }
 },
 "nbformat": 4,
 "nbformat_minor": 2
}
