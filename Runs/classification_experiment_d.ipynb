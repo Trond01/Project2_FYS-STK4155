{
 "cells": [
  {
   "cell_type": "code",
   "execution_count": null,
   "metadata": {},
   "outputs": [],
   "source": [
    "import sys, os\n",
    "sys.path.append(os.path.abspath(os.path.join('..')))\n",
    "from Code.logistic_regression import log_loss_ridge, import_breast_cancer, accuracy_func, logistic_loss_func, logistic_grad, ridge_term\n",
    "from Code.utilities import train_test_split, plot_test_results\n",
    "from Code.neural_network import _beta_init, neural_network_model\n",
    "from Code.descent_methods import SGD_adam\n",
    "\n",
    "from matplotlib import pyplot as plt\n",
    "\n",
    "import jax.numpy as jnp\n",
    "import numpy as np\n",
    "from jax import nn, grad"
   ]
  },
  {
   "cell_type": "code",
   "execution_count": null,
   "metadata": {},
   "outputs": [],
   "source": [
    "X, y = import_breast_cancer()"
   ]
  },
  {
   "cell_type": "code",
   "execution_count": null,
   "metadata": {},
   "outputs": [],
   "source": [
    "def single_run(X, y, lr, lam, hidden_layer_num, node_per_hidden, hidden_activation, test_index=None):\n",
    "    layer_list = [X.shape[1]] + [node_per_hidden]*hidden_layer_num + [1]\n",
    "    beta0 = _beta_init(layer_list)\n",
    "\n",
    "    batch_size = 50\n",
    "    epochs = 15\n",
    "\n",
    "    model = lambda beta, X: neural_network_model(beta, X, activation=hidden_activation, output_activation=nn.sigmoid)\n",
    "\n",
    "    loss_func = logistic_loss_func(model=model)\n",
    "\n",
    "\n",
    "    #loss_func = log_loss_ridge(model=model, lam=lam)\n",
    "\n",
    "    # loss_grad = grad(loss_func)\n",
    "    loss_grad = grad(loss_func)\n",
    "    print(loss_grad(beta0, X, y))\n",
    "\n",
    "    test_func = accuracy_func(model)\n",
    "\n",
    "    X_train, y_train, X_test, y_test, test_index = train_test_split(X, y, 0.2, test_index=test_index)\n",
    "\n",
    "    result = SGD_adam(X_train, y_train, X_test, y_test, grad_method=loss_grad,beta0=beta0, n_epochs=epochs, batch_size=batch_size, test_loss_func=loss_func, lr=lr)\n",
    "\n",
    "    m = int(len(y_train) / batch_size)\n",
    "    result.update({\"test_index\":test_index, \"m\":m})\n",
    "\n",
    "    plot_test_results(result[\"test_loss_list\"], result[\"train_loss_list\"], result[\"m\"])\n",
    "    # result2 = SGD_adam(X_train, y_train, X_test, y_test, grad_method=loss_grad,beta0=beta0, n_epochs=epochs, batch_size=batch_size, test_loss_func=test_func, lr=lr)\n",
    "    # plot_test_results(result2[\"test_loss_list\"], result2[\"train_loss_list\"], result[\"m\"])\n",
    "\n",
    "\n",
    "    return result\n",
    "\n",
    "\n",
    "\n",
    "\n",
    "print(y.shape)\n",
    "print(X.shape)\n",
    "result = single_run(X, y, 0.01, 0.001, hidden_layer_num=2, node_per_hidden=5, hidden_activation=nn.leaky_relu)\n",
    "print(\"Log run\")\n",
    "#result = single_run(X, y, 0.01, 0.001, 0, 5, hidden_activation=nn.relu)\n",
    "\n"
   ]
  },
  {
   "cell_type": "code",
   "execution_count": null,
   "metadata": {},
   "outputs": [],
   "source": [
    "def search_lam():\n",
    "    lams = np.logspace(-8, 2, num=30)\n",
    "    test_errs = []\n",
    "    train_errs = []\n",
    "    for lam in lams:\n",
    "        print(lam)\n",
    "        result = single_run(X, y, lr=0.01, lam=lam, hidden_layer_num=2, node_per_hidden=5, hidden_activation=nn.leaky_relu)\n",
    "        test_errs.append(result[\"test_loss_list\"][-1])\n",
    "        train_errs.append(result[\"train_loss_list\"][-1])\n",
    "\n",
    "    plt.plot(lams, test_errs)\n",
    "    plt.plot(lams, train_errs)\n",
    "    plt.xscale(\"log\")\n",
    "    plt.show()\n",
    "\n",
    "search_lam()"
   ]
  },
  {
   "cell_type": "code",
   "execution_count": null,
   "metadata": {},
   "outputs": [],
   "source": []
  }
 ],
 "metadata": {
  "kernelspec": {
   "display_name": ".venv",
   "language": "python",
   "name": "python3"
  },
  "language_info": {
   "codemirror_mode": {
    "name": "ipython",
    "version": 3
   },
   "file_extension": ".py",
   "mimetype": "text/x-python",
   "name": "python",
   "nbconvert_exporter": "python",
   "pygments_lexer": "ipython3",
   "version": "3.9.0"
  },
  "orig_nbformat": 4
 },
 "nbformat": 4,
 "nbformat_minor": 2
}
