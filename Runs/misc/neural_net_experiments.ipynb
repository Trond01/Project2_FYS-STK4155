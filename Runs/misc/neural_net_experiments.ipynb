{
 "cells": [
  {
   "attachments": {},
   "cell_type": "markdown",
   "metadata": {},
   "source": [
    "### Import tools"
   ]
  },
  {
   "cell_type": "code",
   "execution_count": null,
   "metadata": {},
   "outputs": [],
   "source": [
    "import sys, os\n",
    "sys.path.append(os.path.abspath(os.path.join('..')))\n",
    "\n",
    "# Import tools from this project\n",
    "from Code.descent_methods import *\n",
    "from Code.utilities import train_test_split, plot_test_results\n",
    "from Code.activation_functions import sigmoid\n",
    "from Code.neural_network import neural_network_train, neural_network_model\n",
    "\n",
    "# Import tools from the first project \n",
    "from Code.project1_tools import feature_matrix_2d, r2_sampling\n",
    "\n",
    "# Import other libraries\n",
    "import numpy as np\n",
    "from matplotlib import pyplot as plt"
   ]
  },
  {
   "attachments": {},
   "cell_type": "markdown",
   "metadata": {},
   "source": [
    "### Sampling data"
   ]
  },
  {
   "cell_type": "code",
   "execution_count": null,
   "metadata": {},
   "outputs": [],
   "source": [
    "# Sample points and split in train and test\n",
    "num_points = 200\n",
    "data = r2_sampling(num_points, sigma2=0.1)\n",
    "x, y, z = data[\"x\"], data[\"y\"], data[\"z\"]\n",
    "\n",
    "# Feature matrix with x and y coordinate of franke function\n",
    "X = np.array([np.array([x[i][0], y[i][0]]) for i in range(len(x))]) # Have to use [0] since r2_sampling returns list of singleton lists\n",
    "\n",
    "# Split into train and test\n",
    "X_train, y_train, X_test, y_test, test_index = train_test_split(X, z, 0.5)"
   ]
  },
  {
   "attachments": {},
   "cell_type": "markdown",
   "metadata": {},
   "source": [
    "### Basic epoch experiment for some methods"
   ]
  },
  {
   "cell_type": "code",
   "execution_count": null,
   "metadata": {},
   "outputs": [],
   "source": [
    "n_epochs = 10\n",
    "batch_size = 10\n",
    "num_batches = int(len(y_train) / batch_size)\n",
    "lr = 0.01 # Initial learning rate\n",
    "gamma = 0 # Momentum\n",
    "\n",
    "### TODO: missing compatability with plain method...\n",
    "for method in [SGD]: #[SGD, SGD_adagrad, SGD_RMS_prop, SGD_adam]:\n",
    "    result = neural_network_train(X_train, y_train, X_test, y_test, \n",
    "                                  batch_size=batch_size, \n",
    "                                  n_epochs=n_epochs,\n",
    "                                  lr=lr, gamma=gamma,\n",
    "                                  descent_method=method)\n",
    "    plot_test_results(result[\"test_loss_list\"], result[\"train_loss_list\"], num_batches)"
   ]
  },
  {
   "attachments": {},
   "cell_type": "markdown",
   "metadata": {},
   "source": [
    "### Batch size experiment"
   ]
  },
  {
   "cell_type": "code",
   "execution_count": null,
   "metadata": {},
   "outputs": [],
   "source": [
    "# NB this function uses global variables (:\n",
    "\n",
    "def experiment_nn_batch_size(descent_metod = SGD_adam, n_epochs_list=[5, 10]):\n",
    "    # Set parametres for experiment\n",
    "    batch_sizes = [i for i in range(1, X_train.shape[0])]\n",
    "    lr = 0.01 # Initial learning rate\n",
    "    gamma = 0 # Momentum\n",
    "\n",
    "    # Make plot\n",
    "    fig, axs = plt.subplots(len(n_epochs_list), 1, figsize=(6, 3*len(n_epochs_list)))  # n row, 1 columns\n",
    "\n",
    "    # Lists for storing final error\n",
    "    test_list_dict = {f\"{n}\" : [] for n in n_epochs_list}\n",
    "    train_list_dict = {f\"{n}\" : [] for n in n_epochs_list}\n",
    "\n",
    "    for bs in batch_sizes:\n",
    "        result = neural_network_train(X_train, y_train, X_test, y_test, \n",
    "                                    batch_size=bs, \n",
    "                                    n_epochs=max(n_epochs_list), # The maximal duration contains the rest\n",
    "                                    lr = lr, \n",
    "                                    gamma=gamma,\n",
    "                                    descent_method=descent_metod)\n",
    "        \n",
    "        num_batches = int(X_train.shape[0] / bs)\n",
    "        \n",
    "        for n in n_epochs_list:      \n",
    "            test_list_dict[f\"{n}\"].append(result[\"test_loss_list\"][n*num_batches])\n",
    "            train_list_dict[f\"{n}\"].append(result[\"train_loss_list\"][n*num_batches])\n",
    "\n",
    "    # Make axs list if only one ... # quickfix (:\n",
    "    if len(n_epochs_list) == 1:\n",
    "        axs = [axs] \n",
    "    for i, n in enumerate(n_epochs_list):\n",
    "        axs[i].plot(batch_sizes, test_list_dict[f\"{n}\"], label=\"test\")\n",
    "        axs[i].plot(batch_sizes, train_list_dict[f\"{n}\"], label=\"train\")\n",
    "        axs[i].set(xlabel = \"batch size\", ylabel = \"MSE\", title = f\"Final error over various batch sizes for {n} epochs\")\n",
    "    axs[0].legend()\n",
    "\n",
    "    plt.tight_layout()\n",
    "    plt.show()"
   ]
  },
  {
   "cell_type": "code",
   "execution_count": null,
   "metadata": {},
   "outputs": [],
   "source": [
    "experiment_nn_batch_size(descent_metod = SGD_adam, n_epochs_list=[5])\n",
    "experiment_nn_batch_size(descent_metod = SGD_RMS_prop, n_epochs_list=[5])"
   ]
  }
 ],
 "metadata": {
  "kernelspec": {
   "display_name": ".venv",
   "language": "python",
   "name": "python3"
  },
  "language_info": {
   "codemirror_mode": {
    "name": "ipython",
    "version": 3
   },
   "file_extension": ".py",
   "mimetype": "text/x-python",
   "name": "python",
   "nbconvert_exporter": "python",
   "pygments_lexer": "ipython3",
   "version": "3.10.11"
  }
 },
 "nbformat": 4,
 "nbformat_minor": 2
}
