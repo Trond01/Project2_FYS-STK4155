{
 "cells": [
  {
   "cell_type": "code",
   "execution_count": null,
   "metadata": {},
   "outputs": [],
   "source": [
    "import sys, os\n",
    "sys.path.append(os.path.abspath(os.path.join('..')))\n",
    "from Code.descent_methods import *\n",
    "from Code.utilities import MSELoss_method, jax_loss_grad, train_test_split, plot_test_results\n",
    "from Code.activation_functions import sigmoid\n",
    "\n",
    "# Import tools from the first project \n",
    "from Code.project1_tools import feature_matrix_2d, r2_sampling\n",
    "\n",
    "import jax.numpy as jnp\n",
    "from jax import nn\n",
    "import numpy as np\n",
    "from matplotlib import pyplot as plt\n"
   ]
  },
  {
   "cell_type": "code",
   "execution_count": null,
   "metadata": {},
   "outputs": [],
   "source": [
    "# Define a neural network\n",
    "\n",
    "def neural_network(beta, X, activation = sigmoid): # nn.sigmoid??\n",
    "    out = X.copy()\n",
    "    for i in range(1, len(beta.keys())//2):\n",
    "        #print(f'{out.shape} + {beta[f\"W{i}\"].shape}')\n",
    "\n",
    "        out = activation(jnp.add(jnp.dot(out, beta[f\"W{i}\"]), beta[f\"b{i}\"]))\n",
    "        \n",
    "        #out = jnp.dot(out, beta[f\"W{i}\"])\n",
    "    out_final = jnp.add(jnp.dot(out, beta[f\"W{len(beta.keys())//2}\"]), beta[f\"b{len(beta.keys())//2}\"])\n",
    "    #print(out.shape)\n",
    "    return out_final\n",
    "\n",
    "# Construct beta with desired layer structure\n",
    "layers = [2 ,5, 1]\n",
    "beta0 = {}\n",
    "# Add random initialisation\n",
    "for i in range(1,len(layers)):\n",
    "    beta0[f\"W{i}\"] = np.random.random((layers[i-1], layers[i]))\n",
    "    beta0[f\"b{i}\"] = np.random.random(layers[i])\n",
    "\n",
    "# Sample points and split in train and test\n",
    "num_points = 250\n",
    "data = r2_sampling(num_points, sigma2=0)\n",
    "x, y, z = data[\"x\"], data[\"y\"], data[\"z\"]\n",
    "\n",
    "# Feature matrix with x and y coordinate of franke function\n",
    "X = np.array([np.array([x[i][0], y[i][0]]) for i in range(len(x))]) # Have to use [0] since r2_sampling returns list of singleton lists\n",
    "\n",
    "print(X.shape)\n",
    "\n",
    "# Split into train and test and compute minibatch number ...\n",
    "X_train, y_train, X_test, y_test, test_index = train_test_split(X, z, 0.2)\n",
    "m = int(len(y_train) / 10) # Number of of minibatch when using batch size 10\n",
    "epochs = 50\n",
    "\n",
    "# Define loss function and gradient\n",
    "loss_func = MSELoss_method(neural_network)\n",
    "loss_grad = jax_loss_grad(loss_func)\n"
   ]
  },
  {
   "cell_type": "markdown",
   "metadata": {},
   "source": [
    "### Plain GD"
   ]
  },
  {
   "cell_type": "code",
   "execution_count": null,
   "metadata": {},
   "outputs": [],
   "source": [
    "result_GD = GD(X_train, y_train, X_test, y_test, grad_method=loss_grad, n_epochs=epochs*10, beta0=beta0, test_loss_func=loss_func)\n",
    "plot_test_results(result_GD[\"test_loss_list\"], result_GD[\"train_loss_list\"], 1)"
   ]
  },
  {
   "cell_type": "markdown",
   "metadata": {},
   "source": [
    "### Stochastic"
   ]
  },
  {
   "cell_type": "code",
   "execution_count": null,
   "metadata": {},
   "outputs": [],
   "source": [
    "epochs=10\n",
    "result_SGD = SGD(X_train, y_train, X_test, y_test, grad_method=loss_grad,n_epochs=epochs, beta0=beta0, test_loss_func=loss_func)\n",
    "plot_test_results(result_SGD[\"test_loss_list\"], result_SGD[\"train_loss_list\"], m)"
   ]
  },
  {
   "cell_type": "markdown",
   "metadata": {},
   "source": [
    "### Adagrad"
   ]
  },
  {
   "cell_type": "code",
   "execution_count": null,
   "metadata": {},
   "outputs": [],
   "source": [
    "epochs= 50\n",
    "result_adagrad = SGD_adagrad(X_train, y_train, X_test, y_test, grad_method=loss_grad, n_epochs=epochs, beta0=beta0, test_loss_func=loss_func)\n",
    "plot_test_results(result_adagrad[\"test_loss_list\"], result_adagrad[\"train_loss_list\"], m)"
   ]
  },
  {
   "cell_type": "markdown",
   "metadata": {},
   "source": [
    "### RMS prop"
   ]
  },
  {
   "cell_type": "code",
   "execution_count": null,
   "metadata": {},
   "outputs": [],
   "source": [
    "epochs=5\n",
    "result_RMS_prop = SGD_RMS_prop(X_train, y_train, X_test, y_test, grad_method=loss_grad,n_epochs=epochs, beta0=beta0, test_loss_func=loss_func)\n",
    "plot_test_results(result_RMS_prop[\"test_loss_list\"], result_RMS_prop[\"train_loss_list\"], m)"
   ]
  },
  {
   "cell_type": "markdown",
   "metadata": {},
   "source": [
    "### Adam"
   ]
  },
  {
   "cell_type": "code",
   "execution_count": null,
   "metadata": {},
   "outputs": [],
   "source": [
    "epochs=5\n",
    "result_adam = SGD_adam(X_train, y_train, X_test, y_test, grad_method=loss_grad,n_epochs=epochs, beta0=beta0, test_loss_func=loss_func)\n",
    "plot_test_results(result_adam[\"test_loss_list\"], result_adam[\"train_loss_list\"], m)"
   ]
  },
  {
   "cell_type": "code",
   "execution_count": null,
   "metadata": {},
   "outputs": [],
   "source": [
    "\n",
    "import matplotlib.cm as cm\n",
    "\n",
    "def plot_surface(x,y,z, filename=None):\n",
    "\n",
    "    # Init figure\n",
    "    fig = plt.figure()\n",
    "    ax = fig.add_subplot(projection = '3d')\n",
    "\n",
    "    # Plot the surface.\n",
    "    surf = ax.plot_surface(x, y, z, cmap=cm.coolwarm,\n",
    "                            linewidth=0, antialiased=False)\n",
    "\n",
    "    # Add a color bar which maps values to colors.\n",
    "    fig.colorbar(surf, shrink=0.5, aspect=5)\n",
    "\n",
    "    if filename:\n",
    "        plt.savefig(filename)\n",
    "\n",
    "    plt.show()\n",
    "\n",
    "def plot_neural_network_franke_prediction(beta_dict, filename=None):\n",
    "\n",
    "    # Number of points to use\n",
    "    num_plot = 101\n",
    "\n",
    "    # Make data.\n",
    "    x = np.linspace(0, 1, num_plot).reshape((num_plot, 1))\n",
    "    y = np.linspace(0, 1, num_plot).reshape((num_plot, 1))\n",
    "\n",
    "    x_mesh = np.zeros(shape=(num_plot*num_plot, 1))\n",
    "    y_mesh = np.zeros(shape=(num_plot*num_plot, 1))\n",
    "\n",
    "    for i in range(num_plot):\n",
    "        for j in range(num_plot):\n",
    "            x_mesh[j*num_plot + i] = x[i, 0]\n",
    "            y_mesh[j*num_plot + i] = y[j, 0]\n",
    "    \n",
    "    # Feature matrix of points to plot\n",
    "    X = np.array([np.array([x[i][0], y[j][0]]) for i in range(len(x)) for j in range(len(y))])\n",
    "    \n",
    "    # Make prediction\n",
    "    z = np.array([s[0] for s in neural_network(beta_dict, X)])\n",
    "\n",
    "    # Reshaoe\n",
    "    x_mesh = x_mesh.reshape(num_plot, num_plot)\n",
    "    y_mesh = y_mesh.reshape(num_plot, num_plot)\n",
    "    z_mesh = z.reshape(num_plot, num_plot)\n",
    "\n",
    "    # Plot surface\n",
    "    plot_surface(x_mesh,y_mesh,z_mesh, filename=filename)\n",
    "\n",
    "\n",
    "\n",
    "plot_neural_network_franke_prediction(result_SGD[\"beta_final\"])\n",
    "plot_neural_network_franke_prediction(result_RMS_prop[\"beta_final\"])\n",
    "plot_neural_network_franke_prediction(result_adagrad[\"beta_final\"])\n",
    "plot_neural_network_franke_prediction(result_adam[\"beta_final\"])"
   ]
  },
  {
   "cell_type": "code",
   "execution_count": null,
   "metadata": {},
   "outputs": [],
   "source": [
    "#"
   ]
  }
 ],
 "metadata": {
  "kernelspec": {
   "display_name": ".venv",
   "language": "python",
   "name": "python3"
  },
  "language_info": {
   "codemirror_mode": {
    "name": "ipython",
    "version": 3
   },
   "file_extension": ".py",
   "mimetype": "text/x-python",
   "name": "python",
   "nbconvert_exporter": "python",
   "pygments_lexer": "ipython3",
   "version": "3.10.11"
  }
 },
 "nbformat": 4,
 "nbformat_minor": 2
}
