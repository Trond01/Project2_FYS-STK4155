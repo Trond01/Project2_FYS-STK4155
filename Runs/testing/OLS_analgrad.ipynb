{
 "cells": [
  {
   "cell_type": "code",
   "execution_count": null,
   "metadata": {},
   "outputs": [],
   "source": [
    "import sys, os\n",
    "sys.path.append(os.path.abspath(os.path.join('..\\..')))\n",
    "from Code.descent_methods import *\n",
    "from Code.utilities import train_test_split, plot_test_results\n",
    "\n",
    "# analytic gradient methods\n",
    "from Code.utilities import OLS_train_analgrad, MSELoss_method\n",
    "\n",
    "# Import tools from the first project \n",
    "from Code.project1_tools import feature_matrix_2d, r2_sampling, plot_surface, scale_feature_matrix\n",
    "\n",
    "import numpy as np"
   ]
  },
  {
   "cell_type": "code",
   "execution_count": null,
   "metadata": {},
   "outputs": [],
   "source": [
    "# Initialise beta\n",
    "num_features = 10\n",
    "beta0 = {\"b\" : np.random.random(num_features)}\n",
    "\n",
    "# Start with small values\n",
    "beta0 = {\"b\" : np.random.random(num_features)*0.1}\n",
    "\n",
    "# beta0 = {\"b\" : 0*np.random.random(num_features)}\n",
    "\n",
    "\n",
    "# Sample points and split in train and test\n",
    "num_points = 200\n",
    "split=0.2\n",
    "data = r2_sampling(num_points, sigma2=0)\n",
    "x, y, z = data[\"x\"], data[\"y\"], data[\"z\"]\n",
    "\n",
    "\n",
    "# f = lambda x, y : 3+ x + y + x**2 + 2*y**2 - 3* x*y + x**2*y**2\n",
    "# z = f(x, y)\n",
    "\n",
    "X = feature_matrix_2d(x, y, num_features)\n",
    "X, means, var = scale_feature_matrix(X)\n",
    "X_train, y_train, X_test, y_test, test_index = train_test_split(X, z, split)\n",
    "\n",
    "### TODO: dette er en quickfix...\n",
    "y_train, y_test = np.squeeze(y_train), np.squeeze(y_test)\n",
    "\n",
    "# Number of of minibatch when using batch size 10\n",
    "m = int(len(y_train) / 10) \n",
    "epochs = 20\n",
    "\n",
    "# Define the polynomial fit model\n",
    "def model(beta, X):\n",
    "    return np.dot(X, beta[\"b\"])\n",
    "\n",
    "loss_func = MSELoss_method(model)\n",
    "loss_grad = OLS_train_analgrad(model)"
   ]
  },
  {
   "cell_type": "markdown",
   "metadata": {},
   "source": [
    "### Benchmark test\n",
    "\n",
    "To see that our general implementation does not break everything, we have kept one of the originals..."
   ]
  },
  {
   "cell_type": "code",
   "execution_count": null,
   "metadata": {},
   "outputs": [],
   "source": [
    "from Code.descent_methods import GD_original\n",
    "import matplotlib.pyplot as plt\n",
    "\n",
    "_, loss_list, loss_list2 = GD_original(X_train, y_train, X_test, y_test, loss_grad, model, beta0, lr=0.001, n_epochs=10000)\n",
    "plt.plot(loss_list)\n",
    "plt.plot(loss_list2, \"r--\")"
   ]
  },
  {
   "cell_type": "markdown",
   "metadata": {},
   "source": [
    "### Plain GD"
   ]
  },
  {
   "cell_type": "code",
   "execution_count": null,
   "metadata": {},
   "outputs": [],
   "source": [
    "result_GD = GD(X_train, y_train, X_test, y_test, grad_method=loss_grad, beta0=beta0, test_loss_func=loss_func,\n",
    "               n_epochs=1000, lr=0.2, gamma=0.1)\n",
    "plot_test_results(result_GD[\"test_loss_list\"], result_GD[\"train_loss_list\"], 1)"
   ]
  },
  {
   "cell_type": "markdown",
   "metadata": {},
   "source": [
    "### Stochastic"
   ]
  },
  {
   "cell_type": "code",
   "execution_count": null,
   "metadata": {},
   "outputs": [],
   "source": [
    "result_SGD = SGD(X_train, y_train, X_test, y_test, grad_method=loss_grad, beta0=beta0, test_loss_func=loss_func,\n",
    "                 n_epochs=1000, gamma=0)\n",
    "plot_test_results(result_SGD[\"test_loss_list\"], result_SGD[\"train_loss_list\"], m)"
   ]
  },
  {
   "cell_type": "markdown",
   "metadata": {},
   "source": [
    "### Adagrad"
   ]
  },
  {
   "cell_type": "code",
   "execution_count": null,
   "metadata": {},
   "outputs": [],
   "source": [
    "result_adagrad = SGD_adagrad(X_train, y_train, X_test, y_test, grad_method=loss_grad, beta0=beta0, test_loss_func=loss_func,\n",
    "                             n_epochs=150)\n",
    "plot_test_results(result_adagrad[\"test_loss_list\"], result_adagrad[\"train_loss_list\"], m)"
   ]
  },
  {
   "cell_type": "markdown",
   "metadata": {},
   "source": [
    "### RMS prop"
   ]
  },
  {
   "cell_type": "code",
   "execution_count": null,
   "metadata": {},
   "outputs": [],
   "source": [
    "result_RMS_prop = SGD_RMS_prop(X_train, y_train, X_test, y_test, grad_method=loss_grad, beta0=beta0, test_loss_func=loss_func,\n",
    "                               n_epochs=10)\n",
    "plot_test_results(result_RMS_prop[\"test_loss_list\"], result_RMS_prop[\"train_loss_list\"], m)"
   ]
  },
  {
   "cell_type": "markdown",
   "metadata": {},
   "source": [
    "### Adam"
   ]
  },
  {
   "cell_type": "code",
   "execution_count": null,
   "metadata": {},
   "outputs": [],
   "source": [
    "result_adam = SGD_adam(X_train, y_train, X_test, y_test, grad_method=loss_grad, beta0=beta0, test_loss_func=loss_func,\n",
    "                       n_epochs=100)\n",
    "\n",
    "print(min(result_adam[\"test_loss_list\"]), min(result_adam[\"train_loss_list\"]))\n",
    "\n",
    "plot_test_results(result_adam[\"test_loss_list\"], result_adam[\"train_loss_list\"], m)\n",
    "\n"
   ]
  },
  {
   "cell_type": "markdown",
   "metadata": {},
   "source": [
    "### A plot of the final result"
   ]
  },
  {
   "cell_type": "code",
   "execution_count": null,
   "metadata": {},
   "outputs": [],
   "source": [
    "import matplotlib.pyplot as plt\n",
    "\n",
    "def plot_franke_prediction(model, beta, filename=None):\n",
    "\n",
    "    # Number of points to use\n",
    "    num_plot = 101\n",
    "\n",
    "    # Make data.\n",
    "    x = np.linspace(0, 1, num_plot).reshape((num_plot, 1))\n",
    "    y = np.linspace(0, 1, num_plot).reshape((num_plot, 1))\n",
    "\n",
    "    x_mesh = np.zeros(shape=(num_plot*num_plot, 1))\n",
    "    y_mesh = np.zeros(shape=(num_plot*num_plot, 1))\n",
    "\n",
    "    for i in range(num_plot):\n",
    "        for j in range(num_plot):\n",
    "            x_mesh[j*num_plot + i] = x[i, 0]\n",
    "            y_mesh[j*num_plot + i] = y[j, 0]\n",
    "    \n",
    "    # Feature matrix of points to plot\n",
    "    X = feature_matrix_2d(x_mesh, y_mesh, len(beta[\"b\"]))\n",
    "    X, _, _ = scale_feature_matrix(X)\n",
    "\n",
    "    # Make prediction\n",
    "    z = model(beta, X)\n",
    "    # Reshape\n",
    "    x_mesh = x_mesh.reshape(num_plot, num_plot)\n",
    "    y_mesh = y_mesh.reshape(num_plot, num_plot)\n",
    "    z_mesh = z.reshape(num_plot, num_plot)\n",
    "\n",
    "    # Plot surface\n",
    "    plot_surface(x_mesh,y_mesh,z_mesh, filename=filename)\n",
    "\n",
    "plot_franke_prediction(model, result_SGD[\"beta_final\"])\n",
    "plot_franke_prediction(model, result_RMS_prop[\"beta_final\"])\n",
    "plot_franke_prediction(model, result_adagrad[\"beta_final\"])\n",
    "plot_franke_prediction(model, result_adam[\"beta_final\"])"
   ]
  },
  {
   "cell_type": "code",
   "execution_count": null,
   "metadata": {},
   "outputs": [],
   "source": []
  }
 ],
 "metadata": {
  "kernelspec": {
   "display_name": ".venv",
   "language": "python",
   "name": "python3"
  },
  "language_info": {
   "codemirror_mode": {
    "name": "ipython",
    "version": 3
   },
   "file_extension": ".py",
   "mimetype": "text/x-python",
   "name": "python",
   "nbconvert_exporter": "python",
   "pygments_lexer": "ipython3",
   "version": "3.10.11"
  }
 },
 "nbformat": 4,
 "nbformat_minor": 2
}
