{
 "cells": [
  {
   "cell_type": "code",
   "execution_count": null,
   "metadata": {},
   "outputs": [],
   "source": [
    "import sys, os\n",
    "sys.path.append(os.path.abspath(os.path.join('..\\..')))\n",
    "from Code.descent_methods import *\n",
    "from Code.utilities import train_test_split, plot_test_results\n",
    "\n",
    "# analytic gradient methods\n",
    "from Code.utilities import OLS_train_analgrad, MSELoss_method, feature_matrix\n",
    "\n",
    "# Import tools from the first project \n",
    "from Code.project1_tools import feature_matrix_2d, r2_sampling, plot_surface, scale_feature_matrix\n",
    "\n",
    "import numpy as np"
   ]
  },
  {
   "cell_type": "code",
   "execution_count": null,
   "metadata": {},
   "outputs": [],
   "source": [
    "# Initialise beta\n",
    "num_features = 10\n",
    "beta0 = {\"b\" : np.random.random(num_features)}\n",
    "\n",
    "# Start with small values\n",
    "beta0 = {\"b\" : np.random.random(num_features)*0.1}\n",
    "\n",
    "# beta0 = {\"b\" : 0*np.random.random(num_features)}\n",
    "\n",
    "\n",
    "\n",
    "\n",
    "# Sample points and split in train and test\n",
    "num_points = 200\n",
    "split=0.2\n",
    "\n",
    "data = r2_sampling(num_points, sigma2=0)\n",
    "x, y, z = data[\"x\"], data[\"y\"], data[\"z\"]\n",
    "\n",
    "X = feature_matrix(x, num_features)\n",
    "\n",
    "# f = lambda x :  x**2 + 2*x +3\n",
    "# z = f(x)\n",
    "\n",
    "X_train, y_train, X_test, y_test, test_index = train_test_split(X, z, split)\n",
    "\n",
    "### TODO: dette er en quickfix...\n",
    "y_train, y_test = np.squeeze(y_train), np.squeeze(y_test)\n",
    "\n",
    "# Number of of minibatch when using batch size 10\n",
    "m = int(len(y_train) / 10) \n",
    "epochs = 20\n",
    "\n",
    "# Define the polynomial fit model\n",
    "def model(beta, X):\n",
    "    # print(beta)\n",
    "    return np.dot(X, beta[\"b\"])\n",
    "\n",
    "loss_func = MSELoss_method(model)\n",
    "loss_grad = OLS_train_analgrad(model)"
   ]
  },
  {
   "cell_type": "markdown",
   "metadata": {},
   "source": [
    "### Benchmark test\n",
    "\n",
    "To see that our general implementation does not break everything, we have kept one of the originals..."
   ]
  },
  {
   "cell_type": "code",
   "execution_count": null,
   "metadata": {},
   "outputs": [],
   "source": [
    "from Code.descent_methods import GD_original\n",
    "import matplotlib.pyplot as plt\n",
    "\n",
    "_, loss_list, loss_list2 = GD_original(X_train, y_train, X_test, y_test, loss_grad, model, beta0, lr=0.01, n_epochs=2000)\n",
    "\n",
    "# plt.plot(loss_list)\n",
    "# plt.plot(loss_list2, \"r--\")\n",
    "# plt.show()\n",
    "\n",
    "print(min(loss_list), min(loss_list2))\n",
    "\n",
    "x_vals = np.linspace(0, 1, 100)\n",
    "plt.plot(x_vals, f(x_vals))\n",
    "plt.plot(x_vals, model(_[-1], feature_matrix(x_vals, num_features)), \"--\")"
   ]
  },
  {
   "cell_type": "markdown",
   "metadata": {},
   "source": [
    "### Plain GD"
   ]
  },
  {
   "cell_type": "code",
   "execution_count": null,
   "metadata": {},
   "outputs": [],
   "source": [
    "result_GD = GD(X_train, y_train, X_test, y_test, grad_method=loss_grad, beta0=beta0, test_loss_func=loss_func,\n",
    "               n_epochs=1000, lr=0.2, gamma=0.1)\n",
    "plot_test_results(result_GD[\"test_loss_list\"], result_GD[\"train_loss_list\"], 1)"
   ]
  },
  {
   "cell_type": "markdown",
   "metadata": {},
   "source": [
    "### Stochastic"
   ]
  },
  {
   "cell_type": "code",
   "execution_count": null,
   "metadata": {},
   "outputs": [],
   "source": [
    "result_SGD = SGD(X_train, y_train, X_test, y_test, grad_method=loss_grad, beta0=beta0, test_loss_func=loss_func,\n",
    "                 n_epochs=1000, gamma=0)\n",
    "plot_test_results(result_SGD[\"test_loss_list\"], result_SGD[\"train_loss_list\"], m)"
   ]
  },
  {
   "cell_type": "markdown",
   "metadata": {},
   "source": [
    "### Adagrad"
   ]
  },
  {
   "cell_type": "code",
   "execution_count": null,
   "metadata": {},
   "outputs": [],
   "source": [
    "result_adagrad = SGD_adagrad(X_train, y_train, X_test, y_test, grad_method=loss_grad, beta0=beta0, test_loss_func=loss_func,\n",
    "                             n_epochs=150)\n",
    "plot_test_results(result_adagrad[\"test_loss_list\"], result_adagrad[\"train_loss_list\"], m)"
   ]
  },
  {
   "cell_type": "markdown",
   "metadata": {},
   "source": [
    "### RMS prop"
   ]
  },
  {
   "cell_type": "code",
   "execution_count": null,
   "metadata": {},
   "outputs": [],
   "source": [
    "result_RMS_prop = SGD_RMS_prop(X_train, y_train, X_test, y_test, grad_method=loss_grad, beta0=beta0, test_loss_func=loss_func,\n",
    "                               n_epochs=10)\n",
    "plot_test_results(result_RMS_prop[\"test_loss_list\"], result_RMS_prop[\"train_loss_list\"], m)"
   ]
  },
  {
   "cell_type": "markdown",
   "metadata": {},
   "source": [
    "### Adam"
   ]
  },
  {
   "cell_type": "code",
   "execution_count": null,
   "metadata": {},
   "outputs": [],
   "source": [
    "result_adam = SGD_adam(X_train, y_train, X_test, y_test, grad_method=loss_grad, beta0=beta0, test_loss_func=loss_func,\n",
    "                       n_epochs=130)\n",
    "\n",
    "plot_test_results(result_adam[\"test_loss_list\"], result_adam[\"train_loss_list\"], m)\n",
    "\n",
    "print(min(result_adam[\"test_loss_list\"]), min(result_adam[\"train_loss_list\"]))\n",
    "\n",
    "plt.plot(x_vals, f(x_vals))\n",
    "plt.plot(x_vals, model(result_adam[\"beta_final\"], feature_matrix(x_vals, num_features)), \"--\")"
   ]
  }
 ],
 "metadata": {
  "kernelspec": {
   "display_name": ".venv",
   "language": "python",
   "name": "python3"
  },
  "language_info": {
   "codemirror_mode": {
    "name": "ipython",
    "version": 3
   },
   "file_extension": ".py",
   "mimetype": "text/x-python",
   "name": "python",
   "nbconvert_exporter": "python",
   "pygments_lexer": "ipython3",
   "version": "3.10.11"
  }
 },
 "nbformat": 4,
 "nbformat_minor": 2
}
